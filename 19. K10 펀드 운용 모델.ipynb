{
 "cells": [
  {
   "cell_type": "code",
   "execution_count": null,
   "metadata": {},
   "outputs": [],
   "source": [
    "import datetime as dt\n",
    "from urllib.request import urlopen  \n",
    "import bs4\n",
    "import re\n",
    "import pandas as pd"
   ]
  },
  {
   "cell_type": "code",
   "execution_count": null,
   "metadata": {},
   "outputs": [],
   "source": [
    "# 크롤링 차단 장치 우회를 위해 웹사이트 호출 시 headers 값을 추가\n",
    "import urllib.request\n",
    "headers = {\n",
    "    'User-Agent': 'Mozilla/5.0',\n",
    "    'X-Requested-With': 'XMLHttpRequest',\n",
    "}"
   ]
  },
  {
   "cell_type": "raw",
   "metadata": {},
   "source": [
    "구성종목 기본정보 구하기"
   ]
  },
  {
   "cell_type": "code",
   "execution_count": null,
   "metadata": {},
   "outputs": [],
   "source": [
    "'''\n",
    "한국거래소 시가총액 상위 10종목 (2019년1월 기준)\n",
    "005930\t삼성전자\n",
    "000660\tSK하이닉스\n",
    "068270\t셀트리온\n",
    "005380\t현대차\n",
    "207940\t삼성바이오로직스\n",
    "051910\tLG화학\n",
    "005490\tPOSCO\n",
    "035420\tNAVER\n",
    "017670\tSK텔레콤\n",
    "015760\t한국전력\n",
    "'''\n",
    "k10_component = ['005930', '000660', '068270', '005380', '207940',\\\n",
    "                 '051910', '005490', '035420', '017670', '015760']"
   ]
  },
  {
   "cell_type": "code",
   "execution_count": null,
   "metadata": {},
   "outputs": [],
   "source": [
    "# 구성종목 기본정보\n",
    "def stock_info(stock_cd):\n",
    "#     url_float = 'http://companyinfo.stock.naver.com/v1/company/c1010001.aspx?cmp_cd=' + stock_cd\n",
    "    url_float = 'https://navercomp.wisereport.co.kr/v2/company/c1010001.aspx?cmp_cd=' + stock_cd\n",
    "    source = urlopen(url_float).read()\n",
    "    soup = bs4.BeautifulSoup(source, 'lxml')\n",
    "    \n",
    "    tmp = soup.find(id='cTB11').find_all('tr')[6].td.text\n",
    "    tmp = tmp.replace('\\r', '')\n",
    "    tmp = tmp.replace('\\n', '')\n",
    "    tmp = tmp.replace('\\t', '')\n",
    "    \n",
    "    tmp = re.split('/', tmp)\n",
    "\n",
    "    outstanding = tmp[0].replace(',', '')\n",
    "    outstanding = outstanding.replace('주', '')\n",
    "    outstanding = outstanding.replace(' ', '')\n",
    "    outstanding = int(outstanding)\n",
    "\n",
    "    floating = tmp[1].replace(' ', '')\n",
    "    floating = floating.replace('%', '')\n",
    "    floating = float(floating)\n",
    "    \n",
    "    name = soup.find(id='pArea').find('div').find('div').find('tr').find('td').find('span').text\n",
    "    \n",
    "    k10_outstanding[stock_cd] = outstanding\n",
    "    k10_floating[stock_cd] = floating\n",
    "    k10_name[stock_cd] = name"
   ]
  },
  {
   "cell_type": "code",
   "execution_count": null,
   "metadata": {},
   "outputs": [],
   "source": [
    "k10_outstanding = dict()\n",
    "k10_floating = dict()\n",
    "k10_name = dict()\n",
    "\n",
    "for stock_cd in k10_component:\n",
    "    stock_info(stock_cd)"
   ]
  },
  {
   "cell_type": "code",
   "execution_count": null,
   "metadata": {},
   "outputs": [],
   "source": [
    "# 과거 시세만 반영\n",
    "tmp = {'Outstanding' : k10_outstanding,\\\n",
    "       'Floating' : k10_floating,\\\n",
    "       'Name' : k10_name}\n",
    "k10_info = pd.DataFrame(tmp)\n",
    "k10_info"
   ]
  },
  {
   "cell_type": "code",
   "execution_count": null,
   "metadata": {},
   "outputs": [],
   "source": [
    "def date_format(d):\n",
    "\n",
    "    d = str(d)\n",
    "    d = d.replace('/', '-')\n",
    "    d = d.replace('.', '-')\n",
    "\n",
    "    yyyy = int(d.split('-')[0])\n",
    "    if yyyy < 50:\n",
    "        yyyy = yyyy + 2000\n",
    "    elif yyyy >=50 and yyyy < 100:\n",
    "        yyyy = yyyy + 1900\n",
    "    mm = int(d.split('-')[1])\n",
    "    dd = int(d.split('-')[2])\n",
    "\n",
    "    return dt.date(yyyy, mm, dd)"
   ]
  },
  {
   "cell_type": "code",
   "execution_count": null,
   "metadata": {},
   "outputs": [],
   "source": [
    "def historical_stock_naver(stock_cd, start_date='', end_date='', page_n=1, last_page=0):\n",
    "    \n",
    "    if start_date:\n",
    "        start_date = date_format(start_date)\n",
    "    else:\n",
    "        start_date = dt.date.today()\n",
    "    if end_date:\n",
    "        end_date = date_format(end_date)\n",
    "    else:\n",
    "        end_date = dt.date.today()\n",
    "        \n",
    "    naver_stock = 'http://finance.naver.com/item/sise_day.nhn?code=' + stock_cd + '&page=' + str(page_n)\n",
    "    \n",
    "    # 기존 코드\n",
    "    # source = urlopen(naver_stock).read()\n",
    "    \n",
    "    # 개정 코드 (1줄에서 2줄로 늘어남)\n",
    "    url = urllib.request.Request(naver_stock, headers=headers)   # headers 정보 보내기\n",
    "    source = urlopen(url).read()\n",
    "    \n",
    "    source = bs4.BeautifulSoup(source, 'lxml')\n",
    "    \n",
    "    dates = source.find_all('span', class_='tah p10 gray03')   # 날짜 수집   \n",
    "    prices = source.find_all('td', class_='num')   # 종가 수집\n",
    "    \n",
    "    for n in range(len(dates)):\n",
    "    \n",
    "        if len(dates) > 0:\n",
    "            \n",
    "            # 날짜 처리\n",
    "            this_date = dates[n].text\n",
    "            this_date = date_format(this_date)\n",
    "            \n",
    "            if this_date <= end_date and this_date >= start_date:   \n",
    "            # start_date와 end_date 사이에서 데이터 저장\n",
    "                # 종가 처리\n",
    "                this_close = prices[n*6].text\n",
    "                this_close = this_close.replace(',', '')\n",
    "                this_close = float(this_close)\n",
    "\n",
    "                # 딕셔너리에 저장\n",
    "                historical_prices[this_date] = this_close\n",
    "                              \n",
    "            elif this_date < start_date:   \n",
    "            # start_date 이전이면 함수 종료\n",
    "                return historical_prices              \n",
    "            \n",
    "    # 페이지 네비게이션\n",
    "    if last_page == 0:\n",
    "        last_page = source.find_all('table')[1].find('td', class_='pgRR').find('a')['href']\n",
    "        last_page = last_page.split('&')[1]\n",
    "        last_page = last_page.split('=')[1]\n",
    "        last_page = float(last_page)\n",
    "        \n",
    "    # 다음 페이지 호출\n",
    "    if page_n < last_page:\n",
    "        page_n = page_n + 1\n",
    "        historical_stock_naver(stock_cd, start_date, end_date, page_n, last_page)   \n",
    "        \n",
    "    return historical_prices  "
   ]
  },
  {
   "cell_type": "code",
   "execution_count": null,
   "metadata": {},
   "outputs": [],
   "source": [
    "k10_historical_prices = dict()\n",
    "\n",
    "for stock_cd in k10_component:\n",
    "    \n",
    "    historical_prices = dict()\n",
    "    start_date = '2021-01-01'   # 최신 날짜로 변경\n",
    "    end_date = '2021-03-31'\n",
    "    historical_prices = historical_stock_naver(stock_cd, start_date, end_date)\n",
    "    \n",
    "    k10_historical_prices[stock_cd] = historical_prices"
   ]
  },
  {
   "cell_type": "code",
   "execution_count": null,
   "metadata": {
    "scrolled": true
   },
   "outputs": [],
   "source": [
    "k10_historical_price = pd.DataFrame(k10_historical_prices)\n",
    "k10_historical_price.sort_index(axis=1, inplace=True)   # 컬럼 재정렬 (Python3.7 업데이트를 반영한 수정 패치)"
   ]
  },
  {
   "cell_type": "code",
   "execution_count": null,
   "metadata": {},
   "outputs": [],
   "source": [
    "k10_historical_price = k10_historical_price.fillna(method='ffill')\n",
    "if k10_historical_price.isnull().values.any():\n",
    "    k10_historical_price = k10_historical_price.fillna(method='bfill')\n",
    "k10_historical_price.head(3)"
   ]
  },
  {
   "cell_type": "code",
   "execution_count": null,
   "metadata": {},
   "outputs": [],
   "source": [
    "k10_historical_price.sort_index(inplace=True)   # 데이터를 날짜순으로 정렬"
   ]
  },
  {
   "cell_type": "raw",
   "metadata": {},
   "source": [
    "k10_historical_price['005930'] = k10_historical_price['005930'] / 50   # 삼성전자 액면분할에 따른 수정주가 계산\n",
    "k10_historical_price.head(3)"
   ]
  },
  {
   "cell_type": "markdown",
   "metadata": {},
   "source": [
    "지수 산출을 위한 계산"
   ]
  },
  {
   "cell_type": "code",
   "execution_count": null,
   "metadata": {},
   "outputs": [],
   "source": [
    "k10_historical_mc = k10_historical_price * k10_info['Outstanding'] * k10_info['Floating'] * 0.01\n",
    "k10_historical_mc.tail(3)"
   ]
  },
  {
   "cell_type": "code",
   "execution_count": null,
   "metadata": {},
   "outputs": [],
   "source": [
    "k10 = pd.DataFrame()\n",
    "k10['Market Cap'] = k10_historical_mc.sum(axis=1)\n",
    "#k10.loc[dt.date.today()] = k10_info['f Market Cap'].sum()\n",
    "k10.head(3)"
   ]
  },
  {
   "cell_type": "code",
   "execution_count": null,
   "metadata": {},
   "outputs": [],
   "source": [
    "base_date = dt.date(2021, 1, 4)"
   ]
  },
  {
   "cell_type": "code",
   "execution_count": null,
   "metadata": {},
   "outputs": [],
   "source": [
    "k10['Index'] = k10['Market Cap'] / k10['Market Cap'][base_date] * 100\n",
    "k10.head(3)"
   ]
  },
  {
   "cell_type": "markdown",
   "metadata": {},
   "source": [
    "K10 지수 그래프 그리기"
   ]
  },
  {
   "cell_type": "code",
   "execution_count": null,
   "metadata": {},
   "outputs": [],
   "source": [
    "import matplotlib.pyplot as plt\n",
    "%matplotlib inline"
   ]
  },
  {
   "cell_type": "code",
   "execution_count": null,
   "metadata": {},
   "outputs": [],
   "source": [
    "# 그래프에서 한글 사용 세팅\n",
    "plt.rcParams['font.family'] = 'Malgun Gothic'\n",
    "plt.rcParams['font.size'] = 12\n",
    "plt.rcParams['axes.unicode_minus'] = False"
   ]
  },
  {
   "cell_type": "code",
   "execution_count": null,
   "metadata": {},
   "outputs": [],
   "source": [
    "plt.rcParams['figure.figsize'] = (10, 5)\n",
    "plt.rcParams['grid.linestyle'] = '--'\n",
    "plt.rcParams['grid.alpha'] = 0.7\n",
    "plt.rcParams['lines.antialiased'] = True"
   ]
  },
  {
   "cell_type": "code",
   "execution_count": null,
   "metadata": {},
   "outputs": [],
   "source": [
    "plt.plot(k10['Index'], color='orange', label='K10')\n",
    "plt.legend(loc=0)\n",
    "plt.grid(True)"
   ]
  },
  {
   "cell_type": "markdown",
   "metadata": {},
   "source": [
    "KOSPI200과 비교"
   ]
  },
  {
   "cell_type": "code",
   "execution_count": null,
   "metadata": {},
   "outputs": [],
   "source": [
    "def historical_index_naver(index_cd, start_date='', end_date='', page_n=1, last_page=0):\n",
    "    \n",
    "    if start_date:   # start_date가 있으면\n",
    "        start_date = date_format(start_date)   # date 포맷으로 변환\n",
    "    else:    # 없으면\n",
    "        start_date = dt.date.today()   # 오늘 날짜를 지정\n",
    "    if end_date:   \n",
    "        end_date = date_format(end_date)   \n",
    "    else:   \n",
    "        end_date = dt.date.today()  \n",
    "        \n",
    "        \n",
    "    naver_index = 'http://finance.naver.com/sise/sise_index_day.nhn?code=' + index_cd + '&page=' + str(page_n)\n",
    "    \n",
    "    # source = urlopen(naver_index).read()   # 지정한 페이지에서 코드 읽기\n",
    "    \n",
    "    url = urllib.request.Request(naver_index, headers=headers)   # headers 정보 보내기\n",
    "    source = urlopen(url).read()\n",
    "    \n",
    "    source = bs4.BeautifulSoup(source, 'lxml')   # 뷰티풀 스프로 태그별로 코드 분류\n",
    "    \n",
    "    dates = source.find_all('td', class_='date')   # <td class=\"date\">태그에서 날짜 수집   \n",
    "    prices = source.find_all('td', class_='number_1')   # <td class=\"number_1\">태그에서 지수 수집\n",
    "    \n",
    "    for n in range(len(dates)):\n",
    "    \n",
    "        if dates[n].text.split('.')[0].isdigit():\n",
    "            \n",
    "            # 날짜 처리\n",
    "            this_date = dates[n].text\n",
    "            this_date= date_format(this_date)\n",
    "            \n",
    "            if this_date <= end_date and this_date >= start_date:   \n",
    "            # start_date와 end_date 사이에서 데이터 저장\n",
    "                # 종가 처리\n",
    "                this_close = prices[n*4].text   # prices 중 종가지수인 0,4,8,...번째 데이터 추출\n",
    "                this_close = this_close.replace(',', '')\n",
    "                this_close = float(this_close)\n",
    "\n",
    "                # 딕셔너리에 저장\n",
    "                historical_prices[this_date] = this_close\n",
    "                \n",
    "            elif this_date < start_date:   \n",
    "            # start_date 이전이면 함수 종료\n",
    "                return historical_prices              \n",
    "            \n",
    "    # 페이지 네비게이션\n",
    "    if last_page == 0:\n",
    "        last_page = source.find('td', class_='pgRR').find('a')['href']\n",
    "        # 마지막페이지 주소 추출\n",
    "        last_page = last_page.split('&')[1]   # & 뒤의 page=506 부분 추출\n",
    "        last_page = last_page.split('=')[1]   # = 뒤의 페이지번호만 추출\n",
    "        last_page = int(last_page)   # 숫자형 변수로 변환\n",
    "        \n",
    "    # 다음 페이지 호출\n",
    "    if page_n < last_page:   \n",
    "        page_n = page_n + 1   \n",
    "        historical_index_naver(index_cd, start_date, end_date, page_n, last_page)   \n",
    "        \n",
    "    return historical_prices  "
   ]
  },
  {
   "cell_type": "code",
   "execution_count": null,
   "metadata": {},
   "outputs": [],
   "source": [
    "index_cd = 'KPI200'\n",
    "historical_prices = dict()\n",
    "kospi200 = historical_index_naver(index_cd, '2021-1-1', '2021-03-31')\n",
    "k200 = pd.DataFrame({'Index' : kospi200})\n",
    "k200.head(3)"
   ]
  },
  {
   "cell_type": "code",
   "execution_count": null,
   "metadata": {},
   "outputs": [],
   "source": [
    "# 비교를 편하게 하기 위해 K10 지수를 KOSPI200과 맞춤 (기준일자 기준으로)\n",
    "k10['Adj Index'] = k10['Market Cap'] / k10['Market Cap'][base_date] * k200['Index'][base_date]\n",
    "k10.head(3)"
   ]
  },
  {
   "cell_type": "code",
   "execution_count": null,
   "metadata": {},
   "outputs": [],
   "source": [
    "plt.plot(k10['Adj Index'], color='orange', label='K10')\n",
    "plt.plot(k200['Index'], color='blue', label='KOSPI200')\n",
    "plt.legend(loc=0)\n",
    "plt.grid(True)"
   ]
  },
  {
   "cell_type": "markdown",
   "metadata": {},
   "source": [
    "# Fund 운용"
   ]
  },
  {
   "cell_type": "code",
   "execution_count": null,
   "metadata": {},
   "outputs": [],
   "source": [
    "import numpy as np"
   ]
  },
  {
   "cell_type": "code",
   "execution_count": null,
   "metadata": {},
   "outputs": [],
   "source": [
    "CU = 50000     # 설정/환매 단위\n",
    "base_date = dt.date(2021, 1, 4)     # 설정 기준일\n",
    "volume = 1000000     # 최초 설정수량\n",
    "interest_rate = 0.02     # 이자율"
   ]
  },
  {
   "cell_type": "code",
   "execution_count": null,
   "metadata": {},
   "outputs": [],
   "source": [
    "def creation_redemption(v):\n",
    "    creation = np.random.randint(0, 5) * CU\n",
    "    if v>500000:\n",
    "        redemption = np.random.randint(0, 5) * CU\n",
    "    else:\n",
    "        redemption = 0\n",
    "    volume = v + creation - redemption\n",
    "    return(creation, redemption, volume)"
   ]
  },
  {
   "cell_type": "code",
   "execution_count": null,
   "metadata": {},
   "outputs": [],
   "source": [
    "# 보유비중 산정\n",
    "k10_stock_ratio = pd.DataFrame()\n",
    "for s in k10_info.index:\n",
    "    k10_stock_ratio[s] = k10_historical_mc[s] / k10_historical_mc.sum(axis=1) "
   ]
  },
  {
   "cell_type": "code",
   "execution_count": null,
   "metadata": {},
   "outputs": [],
   "source": [
    "Fund_NAV = pd.DataFrame()\n",
    "Fund_Chg = pd.DataFrame()\n",
    "\n",
    "for d in k10_historical_price.index:\n",
    "    \n",
    "    # 포트폴리오 구성용 정보 (당일 주가 / 자산비중)\n",
    "    stock_price = np.array(k10_historical_price.loc[d])\n",
    "    stock_weight = np.array(k10_stock_ratio.loc[d])\n",
    "    \n",
    "    # 기존 주식 포트폴리오 NAV 계산\n",
    "    if (d <= base_date):     # 기준일 이전\n",
    "        # 최초 주식 포트폴리오 (보유량 0)\n",
    "        stock_holdings = np.array([0, 0, 0, 0, 0, 0, 0, 0, 0, 0])\n",
    "        NAV_cash = 0     # 최초 현금 보유량\n",
    "    else:     # 기준일 이후\n",
    "        NAV_stock = sum(stock_holdings * stock_price)     # 주식 잔고\n",
    "        NAV = NAV_stock + NAV_cash     # 전체 잔고\n",
    "        \n",
    "    # 기준가격 산정\n",
    "    if (d <= base_date):\n",
    "        # 최초 기준가를 기준일자의 KOSPI 200 지수와 맞춤\n",
    "        price = k200['Index'][base_date] * 100\n",
    "    else:\n",
    "        price = NAV / volume\n",
    "        \n",
    "    # 신규 펀드 설정/환매 좌수 계산\n",
    "    if (d == base_date):\n",
    "        volume = 0     # 펀드 좌수\n",
    "        volume_chg = 1000000     # 첫날 설정액\n",
    "    else:\n",
    "        vol = creation_redemption(volume)     # 설정/환매 함수 호출\n",
    "        volume_chg = vol[0] - vol[1]     # 좌수 변동 \n",
    "    # 총 펀드 좌수에 반영\n",
    "    volume = volume + volume_chg\n",
    "    # 펀드 입출금액\n",
    "    aum_chg = price * volume_chg\n",
    "    \n",
    "    # 신규 주식 거래량 계산\n",
    "    stock_trade = np.floor( price * volume_chg * stock_weight / stock_price )    \n",
    "    # 주식 매매금액\n",
    "    trade_amt = sum(stock_trade * stock_price)\n",
    "    # 현금 잔고 변동 \n",
    "    cash_chg = aum_chg - trade_amt\n",
    "    \n",
    "    # 총 주식 보유량 = 기 보유량 + 신규 거래량\n",
    "    stock_holdings = stock_holdings + stock_trade\n",
    "    # 현금 보유량 증가 (이자율 반영)\n",
    "    cash_holdings = np.floor( NAV_cash * np.exp(interest_rate/365) ) \n",
    "\n",
    "    # NAV 업데이트\n",
    "    NAV_stock = sum(stock_holdings * stock_price)     # 주식 잔고\n",
    "    NAV_cash = cash_holdings + cash_chg     # 현금 잔고\n",
    "    NAV = NAV_stock + NAV_cash     # 전체 잔고\n",
    "\n",
    "    date = pd.Series(d)\n",
    "    \n",
    "    # Fund NAV 정보를 DataFrame에 저장\n",
    "    NAV_tmp = {'Stock' : NAV_stock, 'Cash' : NAV_cash, 'Total' : NAV, 'Price' : price}\n",
    "    tmp = pd.DataFrame(NAV_tmp, index=date)\n",
    "    Fund_NAV = Fund_NAV.append(tmp)\n",
    "    \n",
    "    # 일자별 설정&환매 좌수 정보를 DataFrame에 저장\n",
    "    Chg_tmp = {'Amount Change' : aum_chg, 'Trade Amount' : trade_amt, 'Cash Change' : cash_chg}\n",
    "    tmp = pd.DataFrame(Chg_tmp, index=date)\n",
    "    Fund_Chg = Fund_Chg.append(tmp)"
   ]
  },
  {
   "cell_type": "code",
   "execution_count": null,
   "metadata": {},
   "outputs": [],
   "source": [
    "# 펀드 수익률 vs 지수 수익률\n",
    "Earnings = pd.DataFrame()\n",
    "Earnings['K10'] = ( k10['Index'] - k10['Index'][base_date] ) / k10['Index'][base_date] * 100\n",
    "Earnings['KOSPI200'] = ( k200['Index'] - k200['Index'][base_date] ) / k200['Index'][base_date] * 100\n",
    "Earnings['Fund'] = ( Fund_NAV['Price'] - Fund_NAV['Price'][base_date] )/ Fund_NAV['Price'][base_date] * 100\n",
    "ax = Earnings.plot(color = ['orange', 'blue', 'red'])\n",
    "ax.legend(loc=0)\n",
    "ax.set_ylabel('(수익률, %)')\n",
    "ax.grid(True)"
   ]
  },
  {
   "cell_type": "code",
   "execution_count": null,
   "metadata": {},
   "outputs": [],
   "source": [
    "# 펀드 기준가 vs 지수 \n",
    "Indicator = pd.DataFrame()\n",
    "Indicator['K10'] = k10['Adj Index']\n",
    "Indicator['KOSPI200'] = k200['Index']\n",
    "Indicator['Fund'] = Fund_NAV['Price']/100\n",
    "ax = Indicator.plot(color = ['orange', 'blue', 'red'])\n",
    "ax.legend(loc=0)\n",
    "ax.set_ylabel('(수익률, %)')\n",
    "ax.grid(True)"
   ]
  },
  {
   "cell_type": "code",
   "execution_count": null,
   "metadata": {},
   "outputs": [],
   "source": [
    "fig = plt.figure(figsize=(10, 8))\n",
    "ax1 = fig.add_subplot(2, 1, 1)\n",
    "ax2 = fig.add_subplot(2, 1, 2)\n",
    "Earnings.plot.line(ax=ax1, color = ['orange', 'b', 'r'])\n",
    "ax1.set_ylabel('(수익률, %)')\n",
    "Fund_NAV['Display'] = Fund_NAV['Total'] * 0.00000001\n",
    "Fund_NAV['Display'].plot.area(ax=ax2, stacked=False, sharex=True)\n",
    "ax2.set_ylabel('(NAV, 억원)')\n",
    "ax1.grid(True)\n",
    "ax2.grid(True)"
   ]
  },
  {
   "cell_type": "code",
   "execution_count": null,
   "metadata": {},
   "outputs": [],
   "source": [
    "# 일간 수익률\n",
    "fig = plt.figure()\n",
    "ax = fig.add_subplot(1, 1, 1)\n",
    "Daily = pd.DataFrame()\n",
    "Daily['K10'] = (k10['Index'] - k10['Index'].shift(1))\\\n",
    "                / k10['Index'].shift(1) * 100  \n",
    "Daily['K200'] = (k200['Index'] - k200['Index'].shift(1))\\\n",
    "                / k200['Index'].shift(1) * 100\n",
    "Daily['Fund'] = (Fund_NAV['Price'] - Fund_NAV['Price'].shift(1))\\\n",
    "                / Fund_NAV['Price'].shift(1) * 100  \n",
    "Daily.plot(ax=ax, color = ['orange', 'blue', 'red'], alpha=0.7)\n",
    "ax.set_ylabel('(%)')\n",
    "ax.grid(True)"
   ]
  },
  {
   "cell_type": "code",
   "execution_count": null,
   "metadata": {},
   "outputs": [],
   "source": [
    "# KOSPI200 대비 일간 추적오차율 \n",
    "fig = plt.figure()\n",
    "ax = fig.add_subplot(1, 1, 1)\n",
    "Daily['TE200'] = Daily['Fund'] - Daily['K200']    # 추적오차율 = 펀드수익률 - 지수수익률\n",
    "Daily['TE200'].plot(ax=ax)\n",
    "ax.grid(True)"
   ]
  },
  {
   "cell_type": "code",
   "execution_count": null,
   "metadata": {},
   "outputs": [],
   "source": [
    "# K10 대비 일간 추적오차율 \n",
    "fig = plt.figure()\n",
    "ax = fig.add_subplot(1, 1, 1)\n",
    "Daily['TE10'] = Daily['Fund'] - Daily['K10']\n",
    "Daily['TE10'].plot(ax=ax)\n",
    "ax.grid(True)"
   ]
  },
  {
   "cell_type": "code",
   "execution_count": null,
   "metadata": {},
   "outputs": [],
   "source": []
  }
 ],
 "metadata": {
  "kernelspec": {
   "display_name": "Python 3",
   "language": "python",
   "name": "python3"
  },
  "language_info": {
   "codemirror_mode": {
    "name": "ipython",
    "version": 3
   },
   "file_extension": ".py",
   "mimetype": "text/x-python",
   "name": "python",
   "nbconvert_exporter": "python",
   "pygments_lexer": "ipython3",
   "version": "3.8.6"
  }
 },
 "nbformat": 4,
 "nbformat_minor": 4
}
